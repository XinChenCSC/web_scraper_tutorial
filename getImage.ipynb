{
 "cells": [
  {
   "cell_type": "code",
   "execution_count": 2,
   "id": "military-compiler",
   "metadata": {},
   "outputs": [],
   "source": [
    "import requests\n",
    "\n",
    "from bs4 import BeautifulSoup\n",
    "import re\n",
    "\n",
    "import xmltodict"
   ]
  },
  {
   "cell_type": "code",
   "execution_count": 3,
   "metadata": {},
   "outputs": [
    {
     "output_type": "execute_result",
     "data": {
      "text/plain": [
       "89776"
      ]
     },
     "metadata": {},
     "execution_count": 3
    }
   ],
   "source": [
    "16*5611"
   ]
  },
  {
   "source": [
    "site_map = 'https://www.pngmart.com/sitemap.xml/'"
   ],
   "cell_type": "code",
   "metadata": {},
   "execution_count": 4,
   "outputs": []
  },
  {
   "cell_type": "code",
   "execution_count": 5,
   "id": "controversial-prayer",
   "metadata": {},
   "outputs": [],
   "source": [
    "response = requests.get(site_map)\n"
   ]
  },
  {
   "cell_type": "code",
   "execution_count": 6,
   "id": "extraordinary-language",
   "metadata": {},
   "outputs": [],
   "source": [
    "xml = response.text"
   ]
  },
  {
   "cell_type": "code",
   "execution_count": 7,
   "metadata": {},
   "outputs": [],
   "source": [
    "soup = BeautifulSoup(xml,'html.parser')"
   ]
  },
  {
   "cell_type": "code",
   "execution_count": 8,
   "metadata": {},
   "outputs": [],
   "source": [
    "site_map = []\n",
    "for loc in soup.find_all('loc'):\n",
    "    url = loc.text\n",
    "    if re.search(r'post_[1-9]+',url):\n",
    "        site_map.append(loc.text)"
   ]
  },
  {
   "cell_type": "code",
   "execution_count": 9,
   "metadata": {},
   "outputs": [
    {
     "output_type": "execute_result",
     "data": {
      "text/plain": [
       "'https://www.pngmart.com/sitemap_post_1.xml'"
      ]
     },
     "metadata": {},
     "execution_count": 9
    }
   ],
   "source": [
    "site_map_1 = site_map[0]\n",
    "site_map_1"
   ]
  },
  {
   "cell_type": "code",
   "execution_count": 17,
   "metadata": {},
   "outputs": [],
   "source": [
    "response1 = requests.get(site_map_1,'loc')\n"
   ]
  },
  {
   "cell_type": "code",
   "execution_count": 18,
   "metadata": {
    "tags": []
   },
   "outputs": [],
   "source": [
    "soup =BeautifulSoup(response1.text)\n"
   ]
  },
  {
   "cell_type": "code",
   "execution_count": 24,
   "metadata": {},
   "outputs": [
    {
     "output_type": "execute_result",
     "data": {
      "text/plain": [
       "'https://www.pngmart.com/image/64'"
      ]
     },
     "metadata": {},
     "execution_count": 24
    }
   ],
   "source": [
    "lst = []\n",
    "for loc in soup.find_all('loc'):\n",
    "    url = loc.text\n",
    "    lst.append(url)\n"
   ]
  },
  {
   "cell_type": "code",
   "execution_count": 46,
   "metadata": {},
   "outputs": [
    {
     "output_type": "stream",
     "name": "stdout",
     "text": [
      "https://www.pngmart.com/image/64\n"
     ]
    }
   ],
   "source": [
    "for image_url in lst[0:5]:\n",
    "    print(image_url)\n",
    "    response    = requests.get(image_url)\n",
    "    soup        = BeautifulSoup(response.text,'html.parser')\n",
    "    png_url     = soup.find('a',{'class':'download'})['href']\n",
    "    image       = requests.get(png_url)\n",
    "    image_title = image_url.split('/')[-1] + '-' + png_url.split('/')[-1]\n",
    "\n",
    "    with open(image_title,'wb') as file:\n",
    "        file.write(image.content)\n",
    "    break\n"
   ]
  },
  {
   "cell_type": "code",
   "execution_count": 50,
   "metadata": {},
   "outputs": [
    {
     "output_type": "execute_result",
     "data": {
      "text/plain": [
       "'https://www.pngmart.com/files/1/Cabo-Yachts-Boat-PNG.png'"
      ]
     },
     "metadata": {},
     "execution_count": 50
    }
   ],
   "source": [
    "# if response.status_code > 200 and response.status_code < 400:\n",
    "#     print(True)\n",
    "\n"
   ]
  },
  {
   "cell_type": "code",
   "execution_count": 58,
   "metadata": {},
   "outputs": [],
   "source": []
  },
  {
   "cell_type": "code",
   "execution_count": 60,
   "metadata": {},
   "outputs": [],
   "source": []
  },
  {
   "cell_type": "code",
   "execution_count": null,
   "metadata": {},
   "outputs": [],
   "source": []
  }
 ],
 "metadata": {
  "kernelspec": {
   "name": "python3",
   "display_name": "Python 3.9.4 64-bit ('python@3.9')"
  },
  "language_info": {
   "codemirror_mode": {
    "name": "ipython",
    "version": 3
   },
   "file_extension": ".py",
   "mimetype": "text/x-python",
   "name": "python",
   "nbconvert_exporter": "python",
   "pygments_lexer": "ipython3",
   "version": "3.9.4"
  },
  "interpreter": {
   "hash": "50292dbb1f747f7151d445135d392af3138fb3c65386d17d9510cb605222b10b"
  }
 },
 "nbformat": 4,
 "nbformat_minor": 5
}