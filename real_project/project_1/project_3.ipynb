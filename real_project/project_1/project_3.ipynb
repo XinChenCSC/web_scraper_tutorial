{
 "metadata": {
  "language_info": {
   "codemirror_mode": {
    "name": "ipython",
    "version": 3
   },
   "file_extension": ".py",
   "mimetype": "text/x-python",
   "name": "python",
   "nbconvert_exporter": "python",
   "pygments_lexer": "ipython3",
   "version": "3.9.6"
  },
  "orig_nbformat": 4,
  "kernelspec": {
   "name": "python3",
   "display_name": "Python 3.9.6 64-bit ('.env': venv)"
  },
  "interpreter": {
   "hash": "a55a25578840148c7a67ff8023a4d11f8d58eedf8cc8ca9f11e6e1a49c439b30"
  }
 },
 "nbformat": 4,
 "nbformat_minor": 2,
 "cells": [
  {
   "cell_type": "code",
   "execution_count": 1,
   "metadata": {},
   "outputs": [],
   "source": [
    "import requests\n",
    "from bs4 import BeautifulSoup\n",
    "from selenium import webdriver\n",
    "from selenium.webdriver.common.keys import Keys\n",
    "from webdriver_manager.chrome import ChromeDriverManager\n",
    "import pandas as pd\n",
    "import time\n",
    "import re"
   ]
  },
  {
   "cell_type": "code",
   "execution_count": 56,
   "metadata": {},
   "outputs": [],
   "source": [
    "\n",
    "\n",
    "cookies = {\n",
    "    '_fbp': 'fb.1.1625753458359.548389132',\n",
    "    '_ga': 'GA1.2.1273079826.1625753458',\n",
    "    '_gid': 'GA1.2.1157763175.1625753458',\n",
    "    'ss_cvr': '0fc32952-608e-434a-8700-d5d3b980a439|1625753458069|1625753458069|1625756854321|2',\n",
    "    'ss_cvt': '1625756854321',\n",
    "    'crumb': 'BfJP3Dbi4u9YNWY3YWY4MGUwOTU3NDFiYzQzZjczYjU2Mzk2MzM1',\n",
    "}\n",
    "\n",
    "headers = {\n",
    "    'Accept': 'text/html,application/xhtml+xml,application/xml;q=0.9,*/*;q=0.8',\n",
    "    'Host': 'www.consciousmovements.com',\n",
    "    'User-Agent': 'Mozilla/5.0 (Macintosh; Intel Mac OS X 10_15_6) AppleWebKit/605.1.15 (KHTML, like Gecko) Version/14.0.1 Safari/605.1.15',\n",
    "    'Accept-Language': 'en-us',\n",
    "    'Accept-Encoding': 'gzip, deflate, br',\n",
    "    'Connection': 'keep-alive',\n",
    "}\n",
    "\n",
    "response = requests.get('https://www.consciousmovements.com/body-mind-blog/more-movement-less-exercise', headers=headers, cookies=cookies)\n"
   ]
  },
  {
   "cell_type": "code",
   "execution_count": 64,
   "metadata": {},
   "outputs": [],
   "source": [
    "html = response.text\n",
    "soup = BeautifulSoup(html,'html.parser')\n",
    "content = soup.find('p',{'style':'white-space:pre-wrap;'})"
   ]
  },
  {
   "cell_type": "code",
   "execution_count": 66,
   "metadata": {},
   "outputs": [
    {
     "output_type": "execute_result",
     "data": {
      "text/plain": [
       "''"
      ]
     },
     "metadata": {},
     "execution_count": 66
    }
   ],
   "source": [
    "content.text"
   ]
  },
  {
   "cell_type": "code",
   "execution_count": 60,
   "metadata": {},
   "outputs": [
    {
     "output_type": "execute_result",
     "data": {
      "text/plain": [
       "<div class=\"sqs-block-content\"> </div>"
      ]
     },
     "metadata": {},
     "execution_count": 60
    }
   ],
   "source": [
    "content"
   ]
  },
  {
   "cell_type": "code",
   "execution_count": 70,
   "metadata": {},
   "outputs": [],
   "source": [
    "import quandl\n",
    "mydata = quandl.get(\"BSE/BOM539397\", authtoken=\"sxtAVszrvt8rk-YPeGUK\")"
   ]
  },
  {
   "cell_type": "code",
   "execution_count": 71,
   "metadata": {},
   "outputs": [
    {
     "output_type": "execute_result",
     "data": {
      "text/plain": [
       "             Open   High    Low  Close    WAP  No. of Shares  No. of Trades  \\\n",
       "Date                                                                          \n",
       "2018-02-26  11.62  11.62  11.62  11.62  11.62      5000000.0            9.0   \n",
       "2018-11-20  12.78  12.78  10.46  10.46  10.69          100.0            3.0   \n",
       "2018-11-21   9.42   9.42   9.42   9.42   9.42          100.0            1.0   \n",
       "2018-11-22   8.50   8.50   8.50   8.50   8.50          100.0            1.0   \n",
       "2018-11-26   8.03   8.50   8.01   8.50   8.05       104700.0           18.0   \n",
       "2019-03-13   8.95   8.95   8.95   8.95   8.95          100.0            1.0   \n",
       "\n",
       "            Total Turnover  Deliverable Quantity  % Deli. Qty to Traded Qty  \\\n",
       "Date                                                                          \n",
       "2018-02-26      58100000.0             5000000.0                     100.00   \n",
       "2018-11-20          1069.0                 100.0                     100.00   \n",
       "2018-11-21           942.0                 100.0                     100.00   \n",
       "2018-11-22           850.0                 100.0                     100.00   \n",
       "2018-11-26        842452.0               99700.0                      95.22   \n",
       "2019-03-13           895.0                 100.0                     100.00   \n",
       "\n",
       "            Spread H-L  Spread C-O  \n",
       "Date                                \n",
       "2018-02-26        0.00        0.00  \n",
       "2018-11-20        2.32       -2.32  \n",
       "2018-11-21        0.00        0.00  \n",
       "2018-11-22        0.00        0.00  \n",
       "2018-11-26        0.49        0.47  \n",
       "2019-03-13        0.00        0.00  "
      ],
      "text/html": "<div>\n<style scoped>\n    .dataframe tbody tr th:only-of-type {\n        vertical-align: middle;\n    }\n\n    .dataframe tbody tr th {\n        vertical-align: top;\n    }\n\n    .dataframe thead th {\n        text-align: right;\n    }\n</style>\n<table border=\"1\" class=\"dataframe\">\n  <thead>\n    <tr style=\"text-align: right;\">\n      <th></th>\n      <th>Open</th>\n      <th>High</th>\n      <th>Low</th>\n      <th>Close</th>\n      <th>WAP</th>\n      <th>No. of Shares</th>\n      <th>No. of Trades</th>\n      <th>Total Turnover</th>\n      <th>Deliverable Quantity</th>\n      <th>% Deli. Qty to Traded Qty</th>\n      <th>Spread H-L</th>\n      <th>Spread C-O</th>\n    </tr>\n    <tr>\n      <th>Date</th>\n      <th></th>\n      <th></th>\n      <th></th>\n      <th></th>\n      <th></th>\n      <th></th>\n      <th></th>\n      <th></th>\n      <th></th>\n      <th></th>\n      <th></th>\n      <th></th>\n    </tr>\n  </thead>\n  <tbody>\n    <tr>\n      <th>2018-02-26</th>\n      <td>11.62</td>\n      <td>11.62</td>\n      <td>11.62</td>\n      <td>11.62</td>\n      <td>11.62</td>\n      <td>5000000.0</td>\n      <td>9.0</td>\n      <td>58100000.0</td>\n      <td>5000000.0</td>\n      <td>100.00</td>\n      <td>0.00</td>\n      <td>0.00</td>\n    </tr>\n    <tr>\n      <th>2018-11-20</th>\n      <td>12.78</td>\n      <td>12.78</td>\n      <td>10.46</td>\n      <td>10.46</td>\n      <td>10.69</td>\n      <td>100.0</td>\n      <td>3.0</td>\n      <td>1069.0</td>\n      <td>100.0</td>\n      <td>100.00</td>\n      <td>2.32</td>\n      <td>-2.32</td>\n    </tr>\n    <tr>\n      <th>2018-11-21</th>\n      <td>9.42</td>\n      <td>9.42</td>\n      <td>9.42</td>\n      <td>9.42</td>\n      <td>9.42</td>\n      <td>100.0</td>\n      <td>1.0</td>\n      <td>942.0</td>\n      <td>100.0</td>\n      <td>100.00</td>\n      <td>0.00</td>\n      <td>0.00</td>\n    </tr>\n    <tr>\n      <th>2018-11-22</th>\n      <td>8.50</td>\n      <td>8.50</td>\n      <td>8.50</td>\n      <td>8.50</td>\n      <td>8.50</td>\n      <td>100.0</td>\n      <td>1.0</td>\n      <td>850.0</td>\n      <td>100.0</td>\n      <td>100.00</td>\n      <td>0.00</td>\n      <td>0.00</td>\n    </tr>\n    <tr>\n      <th>2018-11-26</th>\n      <td>8.03</td>\n      <td>8.50</td>\n      <td>8.01</td>\n      <td>8.50</td>\n      <td>8.05</td>\n      <td>104700.0</td>\n      <td>18.0</td>\n      <td>842452.0</td>\n      <td>99700.0</td>\n      <td>95.22</td>\n      <td>0.49</td>\n      <td>0.47</td>\n    </tr>\n    <tr>\n      <th>2019-03-13</th>\n      <td>8.95</td>\n      <td>8.95</td>\n      <td>8.95</td>\n      <td>8.95</td>\n      <td>8.95</td>\n      <td>100.0</td>\n      <td>1.0</td>\n      <td>895.0</td>\n      <td>100.0</td>\n      <td>100.00</td>\n      <td>0.00</td>\n      <td>0.00</td>\n    </tr>\n  </tbody>\n</table>\n</div>"
     },
     "metadata": {},
     "execution_count": 71
    }
   ],
   "source": [
    "mydata"
   ]
  },
  {
   "cell_type": "code",
   "execution_count": null,
   "metadata": {},
   "outputs": [],
   "source": []
  }
 ]
}