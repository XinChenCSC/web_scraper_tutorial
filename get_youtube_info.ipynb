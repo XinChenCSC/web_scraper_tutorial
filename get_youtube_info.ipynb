{
 "metadata": {
  "language_info": {
   "codemirror_mode": {
    "name": "ipython",
    "version": 3
   },
   "file_extension": ".py",
   "mimetype": "text/x-python",
   "name": "python",
   "nbconvert_exporter": "python",
   "pygments_lexer": "ipython3",
   "version": "3.9.4"
  },
  "orig_nbformat": 4,
  "kernelspec": {
   "name": "python394jvsc74a57bd0ac9a8396a84c3b6a72989126fcf8bc5f73b4a3cd5a07f787d75f812ca7f1b928",
   "display_name": "Python 3.9.4 64-bit ('.env': venv)",
   "language": "python"
  },
  "interpreter": {
   "hash": "ac9a8396a84c3b6a72989126fcf8bc5f73b4a3cd5a07f787d75f812ca7f1b928"
  }
 },
 "nbformat": 4,
 "nbformat_minor": 2,
 "cells": [
  {
   "cell_type": "code",
   "execution_count": 1,
   "metadata": {},
   "outputs": [],
   "source": [
    "from selenium import webdriver\n",
    "from selenium.webdriver.common.keys import Keys\n",
    "from webdriver_manager.chrome import ChromeDriverManager\n",
    "import time\n",
    "import pandas as pd\n",
    "import datetime\n",
    "from bs4 import BeautifulSoup"
   ]
  },
  {
   "cell_type": "code",
   "execution_count": 287,
   "metadata": {},
   "outputs": [
    {
     "output_type": "stream",
     "name": "stderr",
     "text": [
      "\n",
      "\n",
      "====== WebDriver manager ======\n",
      "Current google-chrome version is 91.0.4472\n",
      "Get LATEST driver version for 91.0.4472\n",
      "Driver [/Users/xin/.wdm/drivers/chromedriver/mac64/91.0.4472.101/chromedriver] found in cache\n"
     ]
    }
   ],
   "source": [
    "driver = webdriver.Chrome(ChromeDriverManager().install())"
   ]
  },
  {
   "cell_type": "code",
   "execution_count": 288,
   "metadata": {},
   "outputs": [],
   "source": [
    "driver.get('https://www.youtube.com/user/jacksfilms/videos')"
   ]
  },
  {
   "cell_type": "code",
   "execution_count": 12,
   "metadata": {},
   "outputs": [],
   "source": []
  },
  {
   "cell_type": "code",
   "execution_count": 289,
   "metadata": {},
   "outputs": [],
   "source": [
    "# for _ in range(56):\n",
    "#     driver.find_element_by_tag_name('body').send_keys(Keys.END)\n",
    "#     time.sleep(3)"
   ]
  },
  {
   "cell_type": "code",
   "execution_count": 290,
   "metadata": {},
   "outputs": [],
   "source": [
    "html = driver.page_source\n",
    "soup = BeautifulSoup(html,'html.parser')"
   ]
  },
  {
   "cell_type": "code",
   "execution_count": 291,
   "metadata": {
    "tags": []
   },
   "outputs": [
    {
     "output_type": "stream",
     "name": "stderr",
     "text": [
      "\n",
      "\n",
      "====== WebDriver manager ======\n",
      "Current google-chrome version is 91.0.4472\n",
      "Get LATEST driver version for 91.0.4472\n",
      "Driver [/Users/xin/.wdm/drivers/chromedriver/mac64/91.0.4472.101/chromedriver] found in cache\n"
     ]
    }
   ],
   "source": [
    "videos = soup.find_all(\"div\",{\"id\":\"dismissible\"})\n",
    "lst = []\n",
    "def get_date(url):\n",
    "    driver = webdriver.Chrome(ChromeDriverManager().install())\n",
    "    driver.get('https://www.youtube.com//watch?v=NDWrjlDImkg')\n",
    "    html = driver.page_source\n",
    "    soup = BeautifulSoup(html,'html.parser')\n",
    "    # data_dict['video_view'] = int (soup.find('span',{'class':'view-count'}).text.split()[0].replace(',',''))\n",
    "    date = soup.find('div',{'id':'info-strings'}).text.replace(',','')\n",
    "    date_obj = datetime.datetime.strptime(date,'%b %d %Y')\n",
    "    return date_obj.strftime('%Y-%m-%d')\n",
    "\n",
    "for video in videos[0:5]:\n",
    "\n",
    "    data_dict              = {}\n",
    "    data_dict['title']     = video.find('a',{'id':'video-title'}).text\n",
    "    data_dict['video_url'] = 'https://www.youtube.com/' + video.find('a',{'id':'video-title'})['href']\n",
    "    meta = video.find('div',{'id':'metadata-line'}).find_all('span')\n",
    "    data_dict['view']  = video.find('a',{'id':'video-title'})['aria-label'].split()[-2]\n",
    "    data_dict['date'] = get_date(data_dict['video_url'])\n",
    "    lst.append(data_dict)\n",
    "    break\n",
    "  \n",
    "\n",
    "  \n"
   ]
  },
  {
   "cell_type": "code",
   "execution_count": 292,
   "metadata": {},
   "outputs": [
    {
     "output_type": "execute_result",
     "data": {
      "text/plain": [
       "'https://www.youtube.com//watch?v=lvjAT7pE8lc'"
      ]
     },
     "metadata": {},
     "execution_count": 292
    }
   ],
   "source": []
  },
  {
   "cell_type": "code",
   "execution_count": 178,
   "metadata": {},
   "outputs": [
    {
     "output_type": "stream",
     "name": "stderr",
     "text": [
      "\n",
      "\n",
      "====== WebDriver manager ======\n",
      "Current google-chrome version is 91.0.4472\n",
      "Get LATEST driver version for 91.0.4472\n",
      "Driver [/Users/xin/.wdm/drivers/chromedriver/mac64/91.0.4472.101/chromedriver] found in cache\n"
     ]
    }
   ],
   "source": []
  },
  {
   "cell_type": "code",
   "execution_count": 254,
   "metadata": {},
   "outputs": [
    {
     "output_type": "execute_result",
     "data": {
      "text/plain": [
       "1"
      ]
     },
     "metadata": {},
     "execution_count": 254
    }
   ],
   "source": [
    "1"
   ]
  },
  {
   "cell_type": "code",
   "execution_count": 255,
   "metadata": {},
   "outputs": [],
   "source": [
    "\n",
    "\n"
   ]
  },
  {
   "cell_type": "code",
   "execution_count": 293,
   "metadata": {},
   "outputs": [
    {
     "output_type": "execute_result",
     "data": {
      "text/plain": [
       "                          title                                     video_url  \\\n",
       "0  It's a-me, Joker (YIAY #557)  https://www.youtube.com//watch?v=lvjAT7pE8lc   \n",
       "\n",
       "     view        date  \n",
       "0  21,913  2021-07-05  "
      ],
      "text/html": "<div>\n<style scoped>\n    .dataframe tbody tr th:only-of-type {\n        vertical-align: middle;\n    }\n\n    .dataframe tbody tr th {\n        vertical-align: top;\n    }\n\n    .dataframe thead th {\n        text-align: right;\n    }\n</style>\n<table border=\"1\" class=\"dataframe\">\n  <thead>\n    <tr style=\"text-align: right;\">\n      <th></th>\n      <th>title</th>\n      <th>video_url</th>\n      <th>view</th>\n      <th>date</th>\n    </tr>\n  </thead>\n  <tbody>\n    <tr>\n      <th>0</th>\n      <td>It's a-me, Joker (YIAY #557)</td>\n      <td>https://www.youtube.com//watch?v=lvjAT7pE8lc</td>\n      <td>21,913</td>\n      <td>2021-07-05</td>\n    </tr>\n  </tbody>\n</table>\n</div>"
     },
     "metadata": {},
     "execution_count": 293
    }
   ],
   "source": [
    "youtube_df = pd.DataFrame(lst)\n",
    "youtube_df\n"
   ]
  },
  {
   "cell_type": "code",
   "execution_count": 257,
   "metadata": {},
   "outputs": [],
   "source": [
    "# youtube_df.to_csv('sample.csv',index = False)"
   ]
  },
  {
   "cell_type": "code",
   "execution_count": 258,
   "metadata": {},
   "outputs": [
    {
     "output_type": "stream",
     "name": "stderr",
     "text": [
      "\n",
      "\n",
      "====== WebDriver manager ======\n",
      "Current google-chrome version is 91.0.4472\n",
      "Get LATEST driver version for 91.0.4472\n",
      "Driver [/Users/xin/.wdm/drivers/chromedriver/mac64/91.0.4472.101/chromedriver] found in cache\n"
     ]
    }
   ],
   "source": [
    "\n",
    "\n"
   ]
  },
  {
   "cell_type": "code",
   "execution_count": 259,
   "metadata": {},
   "outputs": [],
   "source": [
    "\n",
    "# for url in youtube_df['video_url']:\n",
    "#     driver.get(url)\n",
    "#     html = driver.page_source\n",
    "#     soup = BeautifulSoup(html,'html.parser')\n",
    "#     data_dict['video_view'] = int (soup.find('span',{'class':'view-count'}).text.split()[0].replace(',',''))\n",
    "#     date = soup.find('div',{'id':'info-strings'}).text.replace(',','')\n",
    "#     date_obj = datetime.datetime.strptime(date,'%b %d %Y')\n",
    "#     data_dict['video_date'] = date_obj.strftime('%Y-%m-%d')\n",
    "    \n",
    "    \n",
    "\n",
    "\n",
    "\n",
    "# time = soup.find('div',{'id':'info-strings'})  \n",
    "# print(time)"
   ]
  },
  {
   "cell_type": "code",
   "execution_count": 269,
   "metadata": {},
   "outputs": [
    {
     "output_type": "stream",
     "name": "stderr",
     "text": [
      "\n",
      "\n",
      "====== WebDriver manager ======\n",
      "Current google-chrome version is 91.0.4472\n",
      "Get LATEST driver version for 91.0.4472\n",
      "Driver [/Users/xin/.wdm/drivers/chromedriver/mac64/91.0.4472.101/chromedriver] found in cache\n"
     ]
    }
   ],
   "source": [
    "\n",
    " "
   ]
  },
  {
   "cell_type": "code",
   "execution_count": 272,
   "metadata": {},
   "outputs": [],
   "source": []
  },
  {
   "cell_type": "code",
   "execution_count": 271,
   "metadata": {},
   "outputs": [
    {
     "output_type": "execute_result",
     "data": {
      "text/plain": [
       "'Jul 5 2021'"
      ]
     },
     "metadata": {},
     "execution_count": 271
    }
   ],
   "source": []
  },
  {
   "cell_type": "code",
   "execution_count": 250,
   "metadata": {},
   "outputs": [
    {
     "output_type": "execute_result",
     "data": {
      "text/plain": [
       "{'num': 2}"
      ]
     },
     "metadata": {},
     "execution_count": 250
    }
   ],
   "source": []
  },
  {
   "cell_type": "code",
   "execution_count": 212,
   "metadata": {},
   "outputs": [],
   "source": []
  },
  {
   "cell_type": "code",
   "execution_count": 238,
   "metadata": {},
   "outputs": [],
   "source": []
  },
  {
   "cell_type": "code",
   "execution_count": 241,
   "metadata": {},
   "outputs": [
    {
     "output_type": "execute_result",
     "data": {
      "text/plain": [
       "'2021-07-05'"
      ]
     },
     "metadata": {},
     "execution_count": 241
    }
   ],
   "source": [
    "\n"
   ]
  },
  {
   "cell_type": "code",
   "execution_count": null,
   "metadata": {},
   "outputs": [],
   "source": []
  }
 ]
}